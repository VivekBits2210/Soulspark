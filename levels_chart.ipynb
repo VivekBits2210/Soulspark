{
 "cells": [
  {
   "cell_type": "code",
   "execution_count": 15,
   "id": "c152df3c",
   "metadata": {},
   "outputs": [
    {
     "name": "stdout",
     "output_type": "stream",
     "text": [
      "0 1\n",
      "50 2\n",
      "118 3\n",
      "212 4\n",
      "335 5\n",
      "491 6\n",
      "684 7\n",
      "918 8\n",
      "1196 9\n",
      "1524 10\n",
      "1907 11\n",
      "2349 12\n",
      "2855 13\n",
      "3432 14\n",
      "4086 15\n",
      "4821 16\n",
      "5645 17\n",
      "6565 18\n",
      "7587 19\n",
      "8719 20\n",
      "9968 21\n",
      "11344 22\n",
      "12853 23\n",
      "14505 24\n",
      "16309 25\n",
      "18275 26\n",
      "20412 27\n",
      "22730 28\n",
      "25241 29\n",
      "27955 30\n",
      "30884 31\n",
      "34041 32\n",
      "37436 33\n",
      "41085 34\n",
      "44999 35\n",
      "49192 36\n",
      "53680 37\n",
      "58477 38\n",
      "63598 39\n",
      "69060 40\n",
      "74879 41\n",
      "81071 42\n",
      "87656 43\n",
      "94651 44\n"
     ]
    }
   ],
   "source": [
    "import math\n",
    "def calculate_level(num_chars):\n",
    "    if num_chars == 0:\n",
    "        level = 1\n",
    "    else:\n",
    "        level = 1 + int(math.log(num_chars, 50) ** 3.5)\n",
    "    return level\n",
    "\n",
    "last_level = 0\n",
    "for i in range(0,100000):\n",
    "    level = calculate_level(i)\n",
    "    if level!=last_level:\n",
    "        print(i,calculate_level(i))\n",
    "        last_level = level"
   ]
  }
 ],
 "metadata": {
  "kernelspec": {
   "display_name": "Python 3 (ipykernel)",
   "language": "python",
   "name": "python3"
  },
  "language_info": {
   "codemirror_mode": {
    "name": "ipython",
    "version": 3
   },
   "file_extension": ".py",
   "mimetype": "text/x-python",
   "name": "python",
   "nbconvert_exporter": "python",
   "pygments_lexer": "ipython3",
   "version": "3.9.13"
  }
 },
 "nbformat": 4,
 "nbformat_minor": 5
}
